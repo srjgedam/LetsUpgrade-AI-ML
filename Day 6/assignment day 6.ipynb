{
 "cells": [
  {
   "cell_type": "code",
   "execution_count": 116,
   "metadata": {},
   "outputs": [
    {
     "name": "stdout",
     "output_type": "stream",
     "text": [
      "Please enter your email  srjgedam@google.com\n",
      "google\n"
     ]
    }
   ],
   "source": [
    "# Question 1:\n",
    "# Assuming that we have some email addresses in the \"username@companyname.com\" format, please write program\n",
    "# to print the company name of a given email address. Both user names and company names are composed of letters\n",
    "# only\n",
    "\n",
    "id=input(\"Please enter your email  \")\n",
    "x=id.split(\"@\")\n",
    "y=x[1]\n",
    "z=y.split(\".\")\n",
    "v=z[0]\n",
    "print(v)\n",
    "      \n"
   ]
  },
  {
   "cell_type": "code",
   "execution_count": 117,
   "metadata": {},
   "outputs": [
    {
     "name": "stdout",
     "output_type": "stream",
     "text": [
      "Enter sequence of words separated by commaswithout,hello,bag,world\n",
      "['bag', 'hello', 'without', 'world']\n"
     ]
    }
   ],
   "source": [
    "# Question 2:\n",
    "# Write a program that accepts a comma-separated sequence of words as input and prints the words in a comma\n",
    "# separated sequence after sorting them alphabetically.\n",
    "\n",
    "seq=input(\"Enter sequence of words separated by commas\")\n",
    "se=seq.split(\",\")\n",
    "print(sorted(se))"
   ]
  },
  {
   "cell_type": "code",
   "execution_count": 118,
   "metadata": {},
   "outputs": [
    {
     "name": "stdout",
     "output_type": "stream",
     "text": [
      "{'cherry', 'banana', 'apple'}\n",
      "cherry\n",
      "banana\n",
      "apple\n",
      "True\n",
      "{'cherry', 'banana', 'apple', 'orange'}\n"
     ]
    }
   ],
   "source": [
    "# Question 3:\n",
    "# Create your own Jupyter Notebook for Sets\n",
    "\n",
    "thisset = {\"apple\", \"banana\", \"cherry\"}\n",
    "print(thisset)\n",
    "\n",
    "for x in thisset:\n",
    "  print(x)\n",
    "\n",
    "print(\"banana\" in thisset)\n",
    "thisset.add(\"orange\")\n",
    "\n",
    "print(thisset)"
   ]
  },
  {
   "cell_type": "code",
   "execution_count": 88,
   "metadata": {},
   "outputs": [
    {
     "name": "stdout",
     "output_type": "stream",
     "text": [
      "Please enter number ranging from 1 to n 1 2 5 \n",
      "3\n",
      "4\n"
     ]
    }
   ],
   "source": [
    "# Question 4:\n",
    "# Given a list of n-1 numbers ranging from 1 to n, your task is to find the missing number. There are no duplicates.\n",
    "\n",
    "seq1=input(\"Please enter number ranging from 1 to n \")\n",
    "\n",
    "x=len(seq1)\n",
    "a=seq1.split(\" \")\n",
    "\n",
    "n=len(a)+2\n",
    "r=list(range(1,n))\n",
    "\n",
    "rr=str(r)\n",
    "rr1=list(rr)\n",
    "\n",
    "emp=[]\n",
    "for i in rr1:\n",
    "    if i not in a:\n",
    "        emp.append(i)\n",
    "\n",
    "l2=[\"[\",\"]\",\",\",\" \"]\n",
    "for i in emp:\n",
    "    if i in l2:\n",
    "        pass\n",
    "    else:\n",
    "        print(i)\n",
    "    \n",
    "    \n",
    "        \n",
    "        \n"
   ]
  },
  {
   "cell_type": "code",
   "execution_count": 114,
   "metadata": {},
   "outputs": [
    {
     "name": "stdout",
     "output_type": "stream",
     "text": [
      "input list elements12 24 35 24 88 120 155 88 120 155\n",
      "12 120 155 24 35 88 "
     ]
    }
   ],
   "source": [
    "# question5:\n",
    "# With a given list L, write a program to print this list L after removing all duplicate values with original order reserved.\n",
    "# Example:\n",
    "# If the input list is\n",
    "# 12 24 35 24 88 120 155 88 120 155\n",
    "# Then the output should be\n",
    "# 12 24 35 88 120 155\n",
    "\n",
    "\n",
    "l2=input(\"input list elements\")\n",
    "\n",
    "a=l2.split(\" \")\n",
    "a1=sorted(a)\n",
    "\n",
    "\n",
    "l0=[]\n",
    "for i in a1:\n",
    "    if i!=\" \":\n",
    "        l0.append(i)\n",
    "\n",
    "        \n",
    "        \n",
    "l3=[]\n",
    "for i in l0:\n",
    "    if i not in l3:\n",
    "        l3.append(i)\n",
    "\n",
    "for i in l3:\n",
    "    print(i,end=\" \")\n"
   ]
  }
 ],
 "metadata": {
  "kernelspec": {
   "display_name": "Python 3",
   "language": "python",
   "name": "python3"
  },
  "language_info": {
   "codemirror_mode": {
    "name": "ipython",
    "version": 3
   },
   "file_extension": ".py",
   "mimetype": "text/x-python",
   "name": "python",
   "nbconvert_exporter": "python",
   "pygments_lexer": "ipython3",
   "version": "3.7.6"
  }
 },
 "nbformat": 4,
 "nbformat_minor": 4
}
