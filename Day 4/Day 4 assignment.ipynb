{
 "cells": [
  {
   "cell_type": "code",
   "execution_count": 30,
   "metadata": {},
   "outputs": [
    {
     "name": "stdout",
     "output_type": "stream",
     "text": [
      "addition of two complex numbers (9+21j) \n",
      "\n",
      "subtraction of two complex numbers (-3-9j) \n",
      "\n",
      "multiplication of two complex numbers (-72+81j) \n",
      "\n",
      "divison of two complex numbers (0.4137931034482759-0.03448275862068964j) \n",
      "\n",
      "modulo operation can't be performed on complex numbers \n",
      "\n",
      "floor division is not possible in complex numbers \n",
      "\n"
     ]
    }
   ],
   "source": [
    "# Question 1 : \n",
    "# Research on whether addition, subtraction, multiplication, division, floor division\n",
    "# and modulo operations be performed on complex numbers.\n",
    "# Based on your study, implement a Python program to demonstrate these operations.\n",
    "\n",
    "a=3 + 6j\n",
    "b=6 + 15j\n",
    "\n",
    "# addition\n",
    "c=a+b\n",
    "print(\"addition of two complex numbers\",c,\"\\n\")\n",
    "\n",
    "#subtraction\n",
    "c=a-b\n",
    "print(\"subtraction of two complex numbers\",c,\"\\n\")\n",
    "\n",
    "# multiplication\n",
    "c=a*b\n",
    "print(\"multiplication of two complex numbers\",c,\"\\n\")\n",
    "\n",
    "# division\n",
    "c=a/b\n",
    "print(\"divison of two complex numbers\",c,\"\\n\")\n",
    "\n",
    "print(\"modulo operation can't be performed on complex numbers\",\"\\n\")\n",
    "print(\"floor division is not possible in complex numbers\",\"\\n\")\n",
    "\n"
   ]
  },
  {
   "cell_type": "code",
   "execution_count": 31,
   "metadata": {},
   "outputs": [],
   "source": [
    "\n",
    "#  Question 2 :\n",
    "# Research on range() functions and its parameters. Create a markdown cell\n",
    "# and write in your own words (no copy-paste from google please) what you understand about it.\n",
    "# Implement a small program of your choice on the same\n"
   ]
  },
  {
   "cell_type": "markdown",
   "metadata": {},
   "source": [
    "# range( ) function:\n",
    "\n",
    "Range function is used to create the sequence of numbers.\n",
    "\n",
    "__syntax:__ range(start,stop,step)\n",
    "\n",
    "start:starting point of sequence.\n",
    "stop:stoping point (upto but not included).\n",
    "step:step size or increment in sequence from start to stop.\n",
    "\n",
    "it is generally used in looping methods\n",
    "\n",
    "it is of class 'range'\n",
    "\n",
    "\n"
   ]
  },
  {
   "cell_type": "code",
   "execution_count": 32,
   "metadata": {},
   "outputs": [
    {
     "name": "stdout",
     "output_type": "stream",
     "text": [
      "even numbers from 0 to 100 are: \n",
      "0 2 4 6 8 10 12 14 16 18 20 22 24 26 28 30 32 34 36 38 40 42 44 46 48 50 52 54 56 58 60 62 64 66 68 70 72 74 76 78 80 82 84 86 88 90 92 94 96 98 100 \n",
      "\n",
      "odd numbers from 0 to 100 are: \n",
      "1 3 5 7 9 11 13 15 17 19 21 23 25 27 29 31 33 35 37 39 41 43 45 47 49 51 53 55 57 59 61 63 65 67 69 71 73 75 77 79 81 83 85 87 89 91 93 95 97 99 "
     ]
    }
   ],
   "source": [
    "even=range(0,101,2)\n",
    "odd=range(1,101,2)\n",
    "print(\"even numbers from 0 to 100 are: \")\n",
    "for i in even:\n",
    "    print(i ,end=\" \")\n",
    "print(\"\\n\")\n",
    "print(\"odd numbers from 0 to 100 are: \")\n",
    "for i in odd:\n",
    "    print(i,end=\" \")"
   ]
  },
  {
   "cell_type": "code",
   "execution_count": 33,
   "metadata": {},
   "outputs": [
    {
     "name": "stdout",
     "output_type": "stream",
     "text": [
      "multiplication of two numbers 5000\n"
     ]
    }
   ],
   "source": [
    "# Question 3:  Consider two numbers. Perform their subtraction and if the result of subtraction \n",
    "# is greater than 25, print their multiplication result else print their division result\n",
    "\n",
    "a=100\n",
    "b=50\n",
    "\n",
    "sub=a-b\n",
    "if sub>25:\n",
    "    print(\"multiplication of two numbers\",a*b)\n",
    "else:\n",
    "    print(\"Division of two numbers \",a/b)"
   ]
  },
  {
   "cell_type": "code",
   "execution_count": 34,
   "metadata": {},
   "outputs": [
    {
     "name": "stdout",
     "output_type": "stream",
     "text": [
      "[0, 1, 2, 3, 4, 5, 6, 7, 8, 9]\n",
      "2\n",
      "14\n",
      "34\n",
      "62\n"
     ]
    }
   ],
   "source": [
    "#Question 4:\n",
    "# Consider a list of 10 elements of integer values. If the number in the list is divisible by 2\n",
    "#  print the result as \"square of that number minus 2\". \n",
    "\n",
    "list1=list(range(0,10))\n",
    "print(list1)\n",
    "\n",
    "for i in list1:\n",
    "    if i==0:\n",
    "        continue\n",
    "    if i%2==0:\n",
    "        print(i**2-2)\n"
   ]
  },
  {
   "cell_type": "code",
   "execution_count": 35,
   "metadata": {},
   "outputs": [
    {
     "name": "stdout",
     "output_type": "stream",
     "text": [
      "[10, 11, 12, 13, 14, 15, 16, 17, 18, 19]\n",
      "7.5\n",
      "8.0\n",
      "8.5\n",
      "9.0\n",
      "9.5\n"
     ]
    }
   ],
   "source": [
    "# Question 5:\n",
    "# Consider a list of 10 elements. Print all the elements in the list which are greater than 7\n",
    "# when that number is divided 2.\n",
    "\n",
    "list2=list(range(10,20))\n",
    "print(list2)\n",
    "\n",
    "for i in list2:\n",
    "    div=i/2\n",
    "    if div>7:\n",
    "        print(div)"
   ]
  }
 ],
 "metadata": {
  "kernelspec": {
   "display_name": "Python 3",
   "language": "python",
   "name": "python3"
  },
  "language_info": {
   "codemirror_mode": {
    "name": "ipython",
    "version": 3
   },
   "file_extension": ".py",
   "mimetype": "text/x-python",
   "name": "python",
   "nbconvert_exporter": "python",
   "pygments_lexer": "ipython3",
   "version": "3.7.6"
  }
 },
 "nbformat": 4,
 "nbformat_minor": 4
}
