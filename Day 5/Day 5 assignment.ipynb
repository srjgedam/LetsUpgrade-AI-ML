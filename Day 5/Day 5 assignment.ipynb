{
 "cells": [
  {
   "cell_type": "markdown",
   "metadata": {},
   "source": [
    "# Assignment no3"
   ]
  },
  {
   "cell_type": "code",
   "execution_count": 12,
   "metadata": {},
   "outputs": [
    {
     "name": "stdout",
     "output_type": "stream",
     "text": [
      "3 5 7 11 13 17 19 23 29 31 37 41 43 47 53 59 61 67 71 73 "
     ]
    }
   ],
   "source": [
    "# Question 1 :\n",
    "# Write a Python program to find the first 20 non-even prime natural numbers.\n",
    "list1=list(range(75))\n",
    "\n",
    "for i in list1:\n",
    "    count=0\n",
    "    if i>2:\n",
    "        for j in range(1,i+1):\n",
    "            if (i%j)==0:\n",
    "                count=count+1\n",
    "        \n",
    "        if (count==2):\n",
    "            print(i,end=\" \")"
   ]
  },
  {
   "cell_type": "code",
   "execution_count": 13,
   "metadata": {},
   "outputs": [
    {
     "name": "stdout",
     "output_type": "stream",
     "text": [
      "False \n",
      "\n",
      "THIS IS THE TEST STRING 123 \n",
      "\n",
      "this is the test string 123 \n",
      "\n",
      "this is the test string 123 \n",
      "\n",
      "                                              This is the TEST string 123                                                \n",
      "\n",
      "3 \n",
      "\n",
      "My name is John, I'am 36 \n",
      "\n",
      "tHIS IS THE test STRING 123 \n",
      "\n",
      "12 \n",
      "\n",
      "John#Peter#Vicky \n",
      "\n",
      "['This', 'is', 'the', 'TEST', 'string', '123'] \n",
      "\n",
      "True \n",
      "\n",
      "False \n",
      "\n",
      "False \n",
      "\n",
      "This is the CHEST string 123 \n",
      "\n",
      "True \n",
      "\n"
     ]
    }
   ],
   "source": [
    "# Question 2 :\n",
    "# Write a Python program to implement 15 functions of string. \n",
    "\n",
    "string1=\"This is the TEST string 123\"\n",
    "\n",
    "x=string1.isalnum()\n",
    "print(x,\"\\n\")\n",
    "\n",
    "x=string1.upper()\n",
    "print(x,\"\\n\")\n",
    "\n",
    "x=string1.lower()\n",
    "print(x,\"\\n\")\n",
    "\n",
    "x=string1.casefold()\n",
    "print(x,\"\\n\")\n",
    "\n",
    "x=string1.center(120,\" \")\n",
    "print(x,\"\\n\")\n",
    "\n",
    "x=string1.count(\"i\")\n",
    "print(x,\"\\n\")\n",
    "\n",
    "txt2 = \"My name is {0}, I'am {1}\".format(\"John\",36)\n",
    "print(txt2,\"\\n\")\n",
    "\n",
    "x=string1.swapcase()\n",
    "print(x,\"\\n\")\n",
    "\n",
    "x=string1.index(\"TEST\")\n",
    "print(x,\"\\n\")\n",
    "\n",
    "myTuple = (\"John\", \"Peter\", \"Vicky\")\n",
    "\n",
    "x = \"#\".join(myTuple)\n",
    "\n",
    "print(x,\"\\n\")\n",
    "\n",
    "x=string1.split(\" \")\n",
    "print(x,\"\\n\")\n",
    "\n",
    "x=string1.endswith(\"3\")\n",
    "print(x,\"\\n\")\n",
    "\n",
    "x=string1.isupper()\n",
    "print(x,\"\\n\")\n",
    "\n",
    "x=string1.islower()\n",
    "print(x,\"\\n\")\n",
    "\n",
    "x=string1.replace(\"TEST\",\"CHEST\")\n",
    "print(x,\"\\n\")\n",
    "\n",
    "x=string1.startswith(\"This\")\n",
    "print(x,\"\\n\")"
   ]
  },
  {
   "cell_type": "code",
   "execution_count": 14,
   "metadata": {},
   "outputs": [
    {
     "name": "stdout",
     "output_type": "stream",
     "text": [
      "input first string silent\n",
      "not palindrome \n",
      "please press y if you want to check anagram y\n",
      "please enter another string to check anagram listen\n",
      "two strings are anagram \n"
     ]
    }
   ],
   "source": [
    "# Question 3: \n",
    "# Write a Python program to check if the given string is a Palindrome or Anagram or None of them.\n",
    "# Display the message accordingly to the user. \n",
    "\n",
    "string1=input(\"input first string \")\n",
    "\n",
    "if string1[::1]==string1[::-1]:\n",
    "    print(\"The string is palindrome \")\n",
    "else:\n",
    "    print(\"not palindrome \")\n",
    "msg=input(\"please press y if you want to check anagram \")\n",
    "if msg==\"y\":\n",
    "    string2=input(\"please enter another string to check anagram \")\n",
    "    if sorted(string1)==sorted(string2):\n",
    "        print(\"two strings are anagram \")\n",
    "    else:\n",
    "        print(\"none of them \")\n",
    "else:\n",
    "    print(\"bye\")"
   ]
  },
  {
   "cell_type": "code",
   "execution_count": 10,
   "metadata": {},
   "outputs": [],
   "source": [
    "# Question 4: \n",
    "# Write a Python's user defined function that removes all the additional characters from the string\n",
    "# and converts it finally to lower case using built-in lower(). \n",
    "# eg: If the string is \"Dr. Darshan Ingle @AI-ML Trainer\", then the output be \"drdarshaningleaimltrainer\".\n",
    "\n",
    "def charr(string1):\n",
    "    q=\"\"\n",
    "    for i in string1:\n",
    "        if i.isalpha():\n",
    "            q = \"\".join([q,i])\n",
    "    print(q.lower())\n",
    "\n"
   ]
  },
  {
   "cell_type": "code",
   "execution_count": 11,
   "metadata": {},
   "outputs": [
    {
     "name": "stdout",
     "output_type": "stream",
     "text": [
      "drdarshaningleaimltrainer\n"
     ]
    }
   ],
   "source": [
    "charr(\"Dr. Darshan Ingle @AI-ML Trainer\")\n"
   ]
  }
 ],
 "metadata": {
  "kernelspec": {
   "display_name": "Python 3",
   "language": "python",
   "name": "python3"
  },
  "language_info": {
   "codemirror_mode": {
    "name": "ipython",
    "version": 3
   },
   "file_extension": ".py",
   "mimetype": "text/x-python",
   "name": "python",
   "nbconvert_exporter": "python",
   "pygments_lexer": "ipython3",
   "version": "3.7.6"
  }
 },
 "nbformat": 4,
 "nbformat_minor": 4
}
