{
 "cells": [
  {
   "cell_type": "code",
   "execution_count": null,
   "metadata": {},
   "outputs": [],
   "source": [
    "# Write a program to subtract two complex numbers in Python\n",
    "\n",
    "a=complex(input(\"input first complex number. \"))\n",
    "b=complex(input(\"input second complex number.\"))\n",
    "\n",
    "sub=a-b\n",
    "\n",
    "print(\"subtraction is\",sub)\n",
    "    "
   ]
  },
  {
   "cell_type": "code",
   "execution_count": 4,
   "metadata": {},
   "outputs": [
    {
     "name": "stdout",
     "output_type": "stream",
     "text": [
      "please enter a number.64\n",
      "fourth root of number is 2.8284271247461903\n"
     ]
    }
   ],
   "source": [
    "# Write a program to find the fourth root of a number\n",
    "\n",
    "number=int(input(\"please enter a number.\"))\n",
    "forthroot=number**0.25\n",
    "print(\"fourth root of number is\",forthroot)"
   ]
  },
  {
   "cell_type": "code",
   "execution_count": null,
   "metadata": {},
   "outputs": [],
   "source": [
    "# Write a program to swap two numbers in Python with the help of a temporary variable. \n",
    "\n",
    "d=input(\"please enter first number(d).\")\n",
    "e=input(\"please enter second number(e).\")\n",
    "\n",
    "tem=d\n",
    "d=e\n",
    "e=tem\n",
    "\n",
    "print(\"values d and e after swapping are {} and {}\".format(d,e))"
   ]
  },
  {
   "cell_type": "code",
   "execution_count": null,
   "metadata": {},
   "outputs": [],
   "source": [
    "# Write a program to swap two numbers in Python without using a temporary variable\n",
    "d=input(\"please enter first number(d).\")\n",
    "e=input(\"please enter second number(e).\")\n",
    "\n",
    "d,e=e,d\n",
    "\n",
    "print(\"values d and e after swapping are {} and {}\".format(d,e))\n"
   ]
  },
  {
   "cell_type": "code",
   "execution_count": null,
   "metadata": {},
   "outputs": [],
   "source": [
    "# Write a program to convert fahrenheit to kelvin and celsius both\n",
    "temperature=float(input(\"enter temperature in fahrenheit\"))\n",
    "\n",
    "kel=K = ((temperature-32) * (5/9)) + 273.15\n",
    "cel=(temperature-32)* 5/9 \n",
    "\n",
    "print(str(kel)+\" K\")\n",
    "print(str(cel)+\" Celsius\")"
   ]
  },
  {
   "cell_type": "code",
   "execution_count": 1,
   "metadata": {},
   "outputs": [
    {
     "name": "stdout",
     "output_type": "stream",
     "text": [
      "7 is of type <class 'int'> \n",
      "\n",
      "21.0 is of type <class 'float'> \n",
      "\n",
      "(4+5j) is complex number <class 'complex'> \n",
      "\n",
      "[1, 2.2, 'aiml'] is of type <class 'list'> \n",
      "\n",
      "(5, 'program', (5+3j)) is of type <class 'tuple'> \n",
      "\n",
      "what type is it is of type <class 'str'> \n",
      "\n",
      "{1, 2, 3, 4, 5} is of type <class 'set'> \n",
      "\n",
      "{1: 'value', 'key': 2} is of type <class 'dict'> \n",
      "\n"
     ]
    }
   ],
   "source": [
    "# Write a program to demonstrate all the available data types in Python\n",
    "\n",
    "a = 7\n",
    "print(a, \"is of type\", type(a) ,\"\\n\")\n",
    "\n",
    "a = 21.0\n",
    "print(a, \"is of type\", type(a),\"\\n\")\n",
    "\n",
    "a = 4+5j\n",
    "print(a, \"is complex number\",type(a),\"\\n\")\n",
    "\n",
    "list1 = [1, 2.2, 'aiml']\n",
    "print(list1,\"is of type\",type(list1),\"\\n\")\n",
    "\n",
    "t = (5,'program', 5+3j)\n",
    "print(t,\"is of type\",type(t),\"\\n\")\n",
    "\n",
    "s = \"what type is it\"\n",
    "print(s,\"is of type\",type(s) ,\"\\n\")\n",
    "\n",
    "a = {5,2,3,1,4}\n",
    "print(a, \"is of type\",type(a),\"\\n\")\n",
    "\n",
    "d = {1:'value','key':2}\n",
    "print(d, \"is of type\",type(d),\"\\n\")\n"
   ]
  },
  {
   "cell_type": "markdown",
   "metadata": {},
   "source": [
    "# steps to create Github profiles and Upload Github assignment link.\n",
    "\n",
    "1. Open website __github.com__ in browser.\n",
    "2. Then click on __sign up__ .\n",
    "3. Fill the information required and create a account.\n",
    "4. Once you are done with creating account click on button new to create new repository and name it __LetsUpgrade AI/ML__.\n",
    "5. Fill descrpition as __'assignments__'.\n",
    "6. Privacy of reppo should be choose to __'Public'__.\n",
    "7. click on __craete repository__.\n",
    "8. Then Click on __uploading an existing files__.\n",
    "9. Choose the entire folder in the repo in day wise manner.e.g. folder namer 'day 3'.\n",
    "10. After uploading click on __commit changes__.\n",
    "11. Open the day wise folder in github and copy that url from the site.\n",
    "12. Then open this link https://bit.ly/aimlassignment and fill the correct details.\n",
    "13. Paste the github url in google form and click on __submit__ button.\n"
   ]
  }
 ],
 "metadata": {
  "kernelspec": {
   "display_name": "Python 3",
   "language": "python",
   "name": "python3"
  },
  "language_info": {
   "codemirror_mode": {
    "name": "ipython",
    "version": 3
   },
   "file_extension": ".py",
   "mimetype": "text/x-python",
   "name": "python",
   "nbconvert_exporter": "python",
   "pygments_lexer": "ipython3",
   "version": "3.7.6"
  }
 },
 "nbformat": 4,
 "nbformat_minor": 4
}
